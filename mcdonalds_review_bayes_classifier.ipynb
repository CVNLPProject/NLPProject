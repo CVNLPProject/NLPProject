{
 "cells": [
  {
   "cell_type": "markdown",
   "source": [
    "# McDonald's Reviews\n",
    "In this notebook we train a naive Bayes classifier to predict the number of stars of a review.\n"
   ],
   "metadata": {
    "collapsed": false
   },
   "id": "d12d111ce7df47e1"
  },
  {
   "cell_type": "code",
   "execution_count": 54,
   "outputs": [],
   "source": [
    "import pandas as pd\n",
    "import nltk\n",
    "import spacy\n",
    "from sklearn.model_selection import train_test_split\n",
    "from sklearn.feature_extraction.text import CountVectorizer\n",
    "from sklearn.naive_bayes import MultinomialNB\n",
    "from sklearn.metrics import accuracy_score\n",
    "from sklearn.metrics import confusion_matrix\n",
    "import numpy as np"
   ],
   "metadata": {
    "collapsed": false,
    "ExecuteTime": {
     "end_time": "2023-11-16T15:28:48.947793600Z",
     "start_time": "2023-11-16T15:28:48.906427700Z"
    }
   },
   "id": "d474d7f57dfa1b54"
  },
  {
   "cell_type": "markdown",
   "source": [
    "## Load and explore data"
   ],
   "metadata": {
    "collapsed": false
   },
   "id": "70a1b0f53db4ec31"
  },
  {
   "cell_type": "code",
   "execution_count": 15,
   "outputs": [
    {
     "name": "stdout",
     "output_type": "stream",
     "text": [
      "<class 'pandas.core.frame.DataFrame'>\n",
      "RangeIndex: 18149 entries, 0 to 18148\n",
      "Data columns (total 3 columns):\n",
      " #   Column       Non-Null Count  Dtype  \n",
      "---  ------       --------------  -----  \n",
      " 0   business_id  18149 non-null  object \n",
      " 1   stars        18149 non-null  float64\n",
      " 2   text         18149 non-null  object \n",
      "dtypes: float64(1), object(2)\n",
      "memory usage: 425.5+ KB\n",
      "None\n"
     ]
    }
   ],
   "source": [
    "df = pd.read_csv(\"csv/mcdonalds_reviews.csv\", encoding=\"latin-1\")\n",
    "print(df.info())"
   ],
   "metadata": {
    "collapsed": false,
    "ExecuteTime": {
     "end_time": "2023-11-16T14:42:51.572454Z",
     "start_time": "2023-11-16T14:42:51.289403700Z"
    }
   },
   "id": "e61df41835bc7bdd"
  },
  {
   "cell_type": "code",
   "execution_count": 16,
   "outputs": [
    {
     "name": "stdout",
     "output_type": "stream",
     "text": [
      "[2. 1. 4. 5. 3.]\n"
     ]
    }
   ],
   "source": [
    "#check for faulty stars values \n",
    "unique_stars = df[\"stars\"].unique()\n",
    "print(unique_stars)"
   ],
   "metadata": {
    "collapsed": false,
    "ExecuteTime": {
     "end_time": "2023-11-16T14:42:51.572454Z",
     "start_time": "2023-11-16T14:42:51.494143400Z"
    }
   },
   "id": "418ea1675bff885"
  },
  {
   "cell_type": "code",
   "execution_count": 17,
   "outputs": [
    {
     "name": "stdout",
     "output_type": "stream",
     "text": [
      "business_id     object\n",
      "stars          float64\n",
      "text            object\n",
      "dtype: object\n"
     ]
    }
   ],
   "source": [
    "#cast stars to int\n",
    "print(df.dtypes)"
   ],
   "metadata": {
    "collapsed": false,
    "ExecuteTime": {
     "end_time": "2023-11-16T14:42:51.572454Z",
     "start_time": "2023-11-16T14:42:51.510525500Z"
    }
   },
   "id": "f586f530ae52a9fa"
  },
  {
   "cell_type": "code",
   "execution_count": 18,
   "outputs": [],
   "source": [
    "df[\"stars\"] = df[\"stars\"].astype(int)"
   ],
   "metadata": {
    "collapsed": false,
    "ExecuteTime": {
     "end_time": "2023-11-16T14:42:51.572454Z",
     "start_time": "2023-11-16T14:42:51.526987600Z"
    }
   },
   "id": "572f2d1db755a096"
  },
  {
   "cell_type": "code",
   "execution_count": 19,
   "outputs": [
    {
     "name": "stdout",
     "output_type": "stream",
     "text": [
      "business_id    0\n",
      "stars          0\n",
      "text           0\n",
      "dtype: int64\n"
     ]
    }
   ],
   "source": [
    "# check for empty values\n",
    "print(df.isnull().sum())"
   ],
   "metadata": {
    "collapsed": false,
    "ExecuteTime": {
     "end_time": "2023-11-16T14:43:10.328625900Z",
     "start_time": "2023-11-16T14:43:10.273136400Z"
    }
   },
   "id": "553a0693483b08c1"
  },
  {
   "cell_type": "code",
   "execution_count": 20,
   "outputs": [
    {
     "name": "stdout",
     "output_type": "stream",
     "text": [
      "Empty DataFrame\n",
      "Columns: [business_id, stars, text]\n",
      "Index: []\n"
     ]
    }
   ],
   "source": [
    "# check for empty strings in the text\n",
    "print(df[df[\"text\"] == \"\"])"
   ],
   "metadata": {
    "collapsed": false,
    "ExecuteTime": {
     "end_time": "2023-11-16T14:43:48.076362700Z",
     "start_time": "2023-11-16T14:43:47.989778100Z"
    }
   },
   "id": "641c37548e875eb9"
  },
  {
   "cell_type": "code",
   "execution_count": 21,
   "outputs": [
    {
     "name": "stdout",
     "output_type": "stream",
     "text": [
      "Empty DataFrame\n",
      "Columns: [business_id, stars, text]\n",
      "Index: []\n"
     ]
    }
   ],
   "source": [
    "# check for reviews that are only whitespaces\n",
    "print(df[df[\"text\"].str.isspace()])"
   ],
   "metadata": {
    "collapsed": false,
    "ExecuteTime": {
     "end_time": "2023-11-16T14:44:32.074798700Z",
     "start_time": "2023-11-16T14:44:32.011679400Z"
    }
   },
   "id": "b3e45ad8bc8d53b0"
  },
  {
   "cell_type": "code",
   "execution_count": 39,
   "outputs": [
    {
     "name": "stdout",
     "output_type": "stream",
     "text": [
      "1    12277\n",
      "2     1849\n",
      "5     1591\n",
      "3     1294\n",
      "4     1138\n",
      "Name: stars, dtype: int64\n"
     ]
    }
   ],
   "source": [
    "# look at distribution of stars\n",
    "print(df[\"stars\"].value_counts())"
   ],
   "metadata": {
    "collapsed": false,
    "ExecuteTime": {
     "end_time": "2023-11-16T15:08:50.723061500Z",
     "start_time": "2023-11-16T15:08:50.658960200Z"
    }
   },
   "id": "f2f21efd3ae716c5"
  },
  {
   "cell_type": "markdown",
   "source": [
    "## Preprocessing"
   ],
   "metadata": {
    "collapsed": false
   },
   "id": "5d56f5c8bd3abf03"
  },
  {
   "cell_type": "code",
   "execution_count": 25,
   "outputs": [],
   "source": [
    "# make lowercase\n",
    "df[\"text\"] = df[\"text\"].str.lower()"
   ],
   "metadata": {
    "collapsed": false,
    "ExecuteTime": {
     "end_time": "2023-11-16T14:49:04.958395100Z",
     "start_time": "2023-11-16T14:49:04.933529600Z"
    }
   },
   "id": "93abe78713b18ed"
  },
  {
   "cell_type": "code",
   "execution_count": 26,
   "outputs": [
    {
     "name": "stderr",
     "output_type": "stream",
     "text": [
      "C:\\Users\\flyin\\AppData\\Local\\Temp\\ipykernel_6684\\23516537.py:2: FutureWarning: The default value of regex will change from True to False in a future version.\n",
      "  df[\"text\"] = df[\"text\"].str.replace('[^a-z]', ' ')\n"
     ]
    }
   ],
   "source": [
    "# remove anything but letters\n",
    "df[\"text\"] = df[\"text\"].str.replace('[^a-z]', ' ')"
   ],
   "metadata": {
    "collapsed": false,
    "ExecuteTime": {
     "end_time": "2023-11-16T14:49:07.125655500Z",
     "start_time": "2023-11-16T14:49:05.774229200Z"
    }
   },
   "id": "24f584d88e087e6a"
  },
  {
   "cell_type": "code",
   "execution_count": 27,
   "outputs": [
    {
     "name": "stdout",
     "output_type": "stream",
     "text": [
      "✔ Download and installation successful\n",
      "You can now load the package via spacy.load('en_core_web_sm')\n"
     ]
    }
   ],
   "source": [
    "# remove stopwords\n",
    "spacy.cli.download('en_core_web_sm')\n",
    "spacy.load('en_core_web_sm')\n",
    "stopwords = spacy.lang.en.stop_words.STOP_WORDS\n",
    "df[\"text\"]  = df[\"text\"] .apply(lambda x: ' '.join([word for word in x.split() if word not in stopwords]))"
   ],
   "metadata": {
    "collapsed": false,
    "ExecuteTime": {
     "end_time": "2023-11-16T14:50:34.372268400Z",
     "start_time": "2023-11-16T14:50:16.172849100Z"
    }
   },
   "id": "eb776e7922c239c7"
  },
  {
   "cell_type": "code",
   "execution_count": 28,
   "outputs": [
    {
     "name": "stderr",
     "output_type": "stream",
     "text": [
      "[nltk_data] Downloading package wordnet to\n",
      "[nltk_data]     C:\\Users\\flyin\\AppData\\Roaming\\nltk_data...\n",
      "[nltk_data]   Package wordnet is already up-to-date!\n",
      "[nltk_data] Downloading package omw-1.4 to\n",
      "[nltk_data]     C:\\Users\\flyin\\AppData\\Roaming\\nltk_data...\n",
      "[nltk_data]   Package omw-1.4 is already up-to-date!\n"
     ]
    }
   ],
   "source": [
    "# lemmatize\n",
    "nltk.download('wordnet')\n",
    "nltk.download('omw-1.4')\n",
    "wnl = nltk.WordNetLemmatizer()\n",
    "df[\"text\"] = df[\"text\"].apply(lambda x: ' '.join([wnl.lemmatize(word) for word in x.split()]))"
   ],
   "metadata": {
    "collapsed": false,
    "ExecuteTime": {
     "end_time": "2023-11-16T14:51:25.354657400Z",
     "start_time": "2023-11-16T14:51:17.077593800Z"
    }
   },
   "id": "d1f878a2aeba02dc"
  },
  {
   "cell_type": "code",
   "execution_count": 29,
   "outputs": [
    {
     "name": "stdout",
     "output_type": "stream",
     "text": [
      "0    mcdonalds closest home forever drive distance ...\n",
      "1    know shouldnt expect asked drive menu availabl...\n",
      "2    ive eaten gotten food drivethru time food fine...\n",
      "3    mood quick bite mcdonaldsi thought place went ...\n",
      "4     amber tried old fry werent having cold burnt one\n",
      "5        giving star shamrock shake delicious bad year\n",
      "6    good customer service great manager louder mic...\n",
      "7    agree previous review satisfactory drivethroug...\n",
      "8    mcdonalds need know serve purpose id complain ...\n",
      "9    mcdonalds terrible place dirty employee long o...\n",
      "Name: text, dtype: object\n"
     ]
    }
   ],
   "source": [
    "# look at some examples\n",
    "print(df[\"text\"].head(10))"
   ],
   "metadata": {
    "collapsed": false,
    "ExecuteTime": {
     "end_time": "2023-11-16T14:51:27.704960400Z",
     "start_time": "2023-11-16T14:51:27.659195900Z"
    }
   },
   "id": "5ca1aeb5e9ec116f"
  },
  {
   "cell_type": "code",
   "execution_count": 30,
   "outputs": [
    {
     "name": "stderr",
     "output_type": "stream",
     "text": [
      "C:\\Users\\flyin\\AppData\\Local\\Temp\\ipykernel_6684\\1213405689.py:2: FutureWarning: The default value of regex will change from True to False in a future version.\n",
      "  df[\"text\"] = df[\"text\"].str.replace(' +', ' ')\n"
     ]
    },
    {
     "name": "stdout",
     "output_type": "stream",
     "text": [
      "0    mcdonalds closest home forever drive distance ...\n",
      "1    know shouldnt expect asked drive menu availabl...\n",
      "2    ive eaten gotten food drivethru time food fine...\n",
      "3    mood quick bite mcdonaldsi thought place went ...\n",
      "4     amber tried old fry werent having cold burnt one\n",
      "5        giving star shamrock shake delicious bad year\n",
      "6    good customer service great manager louder mic...\n",
      "7    agree previous review satisfactory drivethroug...\n",
      "8    mcdonalds need know serve purpose id complain ...\n",
      "9    mcdonalds terrible place dirty employee long o...\n",
      "Name: text, dtype: object\n"
     ]
    }
   ],
   "source": [
    "# collapse whitespaces and remove leading and trailing whitespaces\n",
    "df[\"text\"] = df[\"text\"].str.replace(' +', ' ')\n",
    "df[\"text\"] = df[\"text\"].str.strip()\n",
    "\n",
    "print(df[\"text\"].head(10))"
   ],
   "metadata": {
    "collapsed": false,
    "ExecuteTime": {
     "end_time": "2023-11-16T14:54:07.806947600Z",
     "start_time": "2023-11-16T14:54:07.468126100Z"
    }
   },
   "id": "85c0698a5722ce8a"
  },
  {
   "cell_type": "markdown",
   "source": [
    "## Vectorization"
   ],
   "metadata": {
    "collapsed": false
   },
   "id": "e653d79f89f7ff37"
  },
  {
   "cell_type": "code",
   "execution_count": 32,
   "outputs": [],
   "source": [
    "# we first use CountVectorizer to create a bag of words\n",
    "vectorizer = CountVectorizer()\n",
    "reviews_bag_of_words = vectorizer.fit_transform(df[\"text\"])"
   ],
   "metadata": {
    "collapsed": false,
    "ExecuteTime": {
     "end_time": "2023-11-16T14:58:01.609453600Z",
     "start_time": "2023-11-16T14:58:00.081726800Z"
    }
   },
   "id": "a0c2e4c084c8fda4"
  },
  {
   "cell_type": "markdown",
   "source": [
    "## Train-Test split"
   ],
   "metadata": {
    "collapsed": false
   },
   "id": "62f9c29ff6c1317a"
  },
  {
   "cell_type": "code",
   "execution_count": 33,
   "outputs": [],
   "source": [
    "# split into training and test set\n",
    "X_train, X_test, y_train, y_test = train_test_split(reviews_bag_of_words, df[\"stars\"], test_size=0.2, random_state=1)"
   ],
   "metadata": {
    "collapsed": false,
    "ExecuteTime": {
     "end_time": "2023-11-16T14:59:02.011539900Z",
     "start_time": "2023-11-16T14:59:01.927481700Z"
    }
   },
   "id": "f8571d1361758d83"
  },
  {
   "cell_type": "markdown",
   "source": [
    "## Train Model and predict"
   ],
   "metadata": {
    "collapsed": false
   },
   "id": "16a9e04b4fd50715"
  },
  {
   "cell_type": "code",
   "execution_count": 34,
   "outputs": [
    {
     "data": {
      "text/plain": "MultinomialNB()",
      "text/html": "<style>#sk-container-id-1 {color: black;background-color: white;}#sk-container-id-1 pre{padding: 0;}#sk-container-id-1 div.sk-toggleable {background-color: white;}#sk-container-id-1 label.sk-toggleable__label {cursor: pointer;display: block;width: 100%;margin-bottom: 0;padding: 0.3em;box-sizing: border-box;text-align: center;}#sk-container-id-1 label.sk-toggleable__label-arrow:before {content: \"▸\";float: left;margin-right: 0.25em;color: #696969;}#sk-container-id-1 label.sk-toggleable__label-arrow:hover:before {color: black;}#sk-container-id-1 div.sk-estimator:hover label.sk-toggleable__label-arrow:before {color: black;}#sk-container-id-1 div.sk-toggleable__content {max-height: 0;max-width: 0;overflow: hidden;text-align: left;background-color: #f0f8ff;}#sk-container-id-1 div.sk-toggleable__content pre {margin: 0.2em;color: black;border-radius: 0.25em;background-color: #f0f8ff;}#sk-container-id-1 input.sk-toggleable__control:checked~div.sk-toggleable__content {max-height: 200px;max-width: 100%;overflow: auto;}#sk-container-id-1 input.sk-toggleable__control:checked~label.sk-toggleable__label-arrow:before {content: \"▾\";}#sk-container-id-1 div.sk-estimator input.sk-toggleable__control:checked~label.sk-toggleable__label {background-color: #d4ebff;}#sk-container-id-1 div.sk-label input.sk-toggleable__control:checked~label.sk-toggleable__label {background-color: #d4ebff;}#sk-container-id-1 input.sk-hidden--visually {border: 0;clip: rect(1px 1px 1px 1px);clip: rect(1px, 1px, 1px, 1px);height: 1px;margin: -1px;overflow: hidden;padding: 0;position: absolute;width: 1px;}#sk-container-id-1 div.sk-estimator {font-family: monospace;background-color: #f0f8ff;border: 1px dotted black;border-radius: 0.25em;box-sizing: border-box;margin-bottom: 0.5em;}#sk-container-id-1 div.sk-estimator:hover {background-color: #d4ebff;}#sk-container-id-1 div.sk-parallel-item::after {content: \"\";width: 100%;border-bottom: 1px solid gray;flex-grow: 1;}#sk-container-id-1 div.sk-label:hover label.sk-toggleable__label {background-color: #d4ebff;}#sk-container-id-1 div.sk-serial::before {content: \"\";position: absolute;border-left: 1px solid gray;box-sizing: border-box;top: 0;bottom: 0;left: 50%;z-index: 0;}#sk-container-id-1 div.sk-serial {display: flex;flex-direction: column;align-items: center;background-color: white;padding-right: 0.2em;padding-left: 0.2em;position: relative;}#sk-container-id-1 div.sk-item {position: relative;z-index: 1;}#sk-container-id-1 div.sk-parallel {display: flex;align-items: stretch;justify-content: center;background-color: white;position: relative;}#sk-container-id-1 div.sk-item::before, #sk-container-id-1 div.sk-parallel-item::before {content: \"\";position: absolute;border-left: 1px solid gray;box-sizing: border-box;top: 0;bottom: 0;left: 50%;z-index: -1;}#sk-container-id-1 div.sk-parallel-item {display: flex;flex-direction: column;z-index: 1;position: relative;background-color: white;}#sk-container-id-1 div.sk-parallel-item:first-child::after {align-self: flex-end;width: 50%;}#sk-container-id-1 div.sk-parallel-item:last-child::after {align-self: flex-start;width: 50%;}#sk-container-id-1 div.sk-parallel-item:only-child::after {width: 0;}#sk-container-id-1 div.sk-dashed-wrapped {border: 1px dashed gray;margin: 0 0.4em 0.5em 0.4em;box-sizing: border-box;padding-bottom: 0.4em;background-color: white;}#sk-container-id-1 div.sk-label label {font-family: monospace;font-weight: bold;display: inline-block;line-height: 1.2em;}#sk-container-id-1 div.sk-label-container {text-align: center;}#sk-container-id-1 div.sk-container {/* jupyter's `normalize.less` sets `[hidden] { display: none; }` but bootstrap.min.css set `[hidden] { display: none !important; }` so we also need the `!important` here to be able to override the default hidden behavior on the sphinx rendered scikit-learn.org. See: https://github.com/scikit-learn/scikit-learn/issues/21755 */display: inline-block !important;position: relative;}#sk-container-id-1 div.sk-text-repr-fallback {display: none;}</style><div id=\"sk-container-id-1\" class=\"sk-top-container\"><div class=\"sk-text-repr-fallback\"><pre>MultinomialNB()</pre><b>In a Jupyter environment, please rerun this cell to show the HTML representation or trust the notebook. <br />On GitHub, the HTML representation is unable to render, please try loading this page with nbviewer.org.</b></div><div class=\"sk-container\" hidden><div class=\"sk-item\"><div class=\"sk-estimator sk-toggleable\"><input class=\"sk-toggleable__control sk-hidden--visually\" id=\"sk-estimator-id-1\" type=\"checkbox\" checked><label for=\"sk-estimator-id-1\" class=\"sk-toggleable__label sk-toggleable__label-arrow\">MultinomialNB</label><div class=\"sk-toggleable__content\"><pre>MultinomialNB()</pre></div></div></div></div></div>"
     },
     "execution_count": 34,
     "metadata": {},
     "output_type": "execute_result"
    }
   ],
   "source": [
    "# train a Multinomial Naive Bayes classifier\n",
    "clf = MultinomialNB()\n",
    "clf.fit(X_train, y_train)"
   ],
   "metadata": {
    "collapsed": false,
    "ExecuteTime": {
     "end_time": "2023-11-16T15:04:23.313751100Z",
     "start_time": "2023-11-16T15:04:23.235990300Z"
    }
   },
   "id": "37d5d149de53f1ce"
  },
  {
   "cell_type": "code",
   "execution_count": 35,
   "outputs": [],
   "source": [
    "# predict the test set\n",
    "y_pred = clf.predict(X_test)"
   ],
   "metadata": {
    "collapsed": false,
    "ExecuteTime": {
     "end_time": "2023-11-16T15:04:39.614242Z",
     "start_time": "2023-11-16T15:04:39.596969500Z"
    }
   },
   "id": "35bc77aa98492ff4"
  },
  {
   "cell_type": "markdown",
   "source": [
    "## Evaluate model"
   ],
   "metadata": {
    "collapsed": false
   },
   "id": "b3adfe8e9c518467"
  },
  {
   "cell_type": "code",
   "execution_count": 36,
   "outputs": [
    {
     "name": "stdout",
     "output_type": "stream",
     "text": [
      "Accuracy:  0.7121212121212122\n"
     ]
    }
   ],
   "source": [
    "# calculate the accuracy\n",
    "from sklearn.metrics import accuracy_score\n",
    "print('Accuracy: ', accuracy_score(y_test, y_pred))"
   ],
   "metadata": {
    "collapsed": false,
    "ExecuteTime": {
     "end_time": "2023-11-16T15:04:50.742392Z",
     "start_time": "2023-11-16T15:04:50.537068400Z"
    }
   },
   "id": "ae3521846e10ac80"
  },
  {
   "cell_type": "code",
   "execution_count": 41,
   "outputs": [
    {
     "data": {
      "text/plain": "<Figure size 1000x1000 with 2 Axes>",
      "image/png": "[encoded data removed]"
     },
     "metadata": {},
     "output_type": "display_data"
    }
   ],
   "source": [
    "# we create the confusion matrix with percent values\n",
    "cm = confusion_matrix(y_test, y_pred, normalize='true')\n",
    "\n",
    "# we plot the confusion matrix\n",
    "import seaborn as sns\n",
    "import matplotlib.pyplot as plt\n",
    "\n",
    "fig, ax = plt.subplots(figsize=(10,10))\n",
    "sns.heatmap(cm, annot=True, fmt='.0%', xticklabels=[1, 2, 3, 4, 5], yticklabels=[1, 2, 3, 4, 5], ax=ax)\n",
    "plt.ylabel('Actual')\n",
    "plt.xlabel('Predicted')\n",
    "plt.show()"
   ],
   "metadata": {
    "collapsed": false,
    "ExecuteTime": {
     "end_time": "2023-11-16T15:12:56.345871500Z",
     "start_time": "2023-11-16T15:12:55.784306800Z"
    }
   },
   "id": "7cd9611dcdf4a0c2"
  },
  {
   "cell_type": "markdown",
   "source": [
    "The accuracy is of our model appears quite good at first, but when we look at the confusion matrix, we can see that it is only good at predicting 1 star reviews. This might be due to our data being very imbalanced:"
   ],
   "metadata": {
    "collapsed": false
   },
   "id": "5d855d4b6d4e6e77"
  },
  {
   "cell_type": "code",
   "execution_count": 42,
   "outputs": [
    {
     "name": "stdout",
     "output_type": "stream",
     "text": [
      "1    9839\n",
      "2    1477\n",
      "5    1277\n",
      "3    1035\n",
      "4     891\n",
      "Name: stars, dtype: int64\n"
     ]
    }
   ],
   "source": [
    "print(y_train.value_counts())"
   ],
   "metadata": {
    "collapsed": false,
    "ExecuteTime": {
     "end_time": "2023-11-16T15:16:21.586594Z",
     "start_time": "2023-11-16T15:16:21.399442300Z"
    }
   },
   "id": "e1ac61a078657cb5"
  },
  {
   "cell_type": "code",
   "execution_count": 56,
   "outputs": [
    {
     "name": "stdout",
     "output_type": "stream",
     "text": [
      "Balanced accuracy:  0.34668956118013944\n"
     ]
    }
   ],
   "source": [
    "# lets look at the balanced accuracy\n",
    "from sklearn.metrics import balanced_accuracy_score\n",
    "print('Balanced accuracy: ', balanced_accuracy_score(y_test, y_pred))"
   ],
   "metadata": {
    "collapsed": false,
    "ExecuteTime": {
     "end_time": "2023-11-16T15:31:00.299382700Z",
     "start_time": "2023-11-16T15:31:00.222742200Z"
    }
   },
   "id": "1bf9862951ee967e"
  },
  {
   "cell_type": "markdown",
   "source": [
    "## 2. attempt with balanced data\n",
    "\n",
    "Now we try to improve the model by balancing the dataset to removing the bias towards 1-star reviews. We do this by downsampling the majority class."
   ],
   "metadata": {
    "collapsed": false
   },
   "id": "399b7c7a5c488a2"
  },
  {
   "cell_type": "code",
   "execution_count": 43,
   "outputs": [],
   "source": [
    "# we remove reviews for each star until there are only 891 reviews left for each star (this is the lowest number of reviews for a star)\n",
    "df_balanced = df.groupby('stars').apply(lambda x: x.sample(n=891, random_state=1)).reset_index(drop = True)"
   ],
   "metadata": {
    "collapsed": false,
    "ExecuteTime": {
     "end_time": "2023-11-16T15:18:14.643957300Z",
     "start_time": "2023-11-16T15:18:14.565047700Z"
    }
   },
   "id": "39d55af173fe2f28"
  },
  {
   "cell_type": "code",
   "execution_count": 44,
   "outputs": [
    {
     "name": "stdout",
     "output_type": "stream",
     "text": [
      "1    891\n",
      "2    891\n",
      "3    891\n",
      "4    891\n",
      "5    891\n",
      "Name: stars, dtype: int64\n"
     ]
    }
   ],
   "source": [
    "print(df_balanced[\"stars\"].value_counts())"
   ],
   "metadata": {
    "collapsed": false,
    "ExecuteTime": {
     "end_time": "2023-11-16T15:18:20.723436800Z",
     "start_time": "2023-11-16T15:18:20.568935700Z"
    }
   },
   "id": "c602c4e35c45b18a"
  },
  {
   "cell_type": "code",
   "execution_count": 46,
   "outputs": [],
   "source": [
    "# create a bag of words\n",
    "vectorizer = CountVectorizer()\n",
    "balanced_reviews_bag_of_words = vectorizer.fit_transform(df_balanced[\"text\"])"
   ],
   "metadata": {
    "collapsed": false,
    "ExecuteTime": {
     "end_time": "2023-11-16T15:19:26.588461100Z",
     "start_time": "2023-11-16T15:19:26.419682200Z"
    }
   },
   "id": "1d305d177776a1c2"
  },
  {
   "cell_type": "code",
   "execution_count": 47,
   "outputs": [],
   "source": [
    "# split\n",
    "X_train_balanced, X_test_balanced, y_train_balanced, y_test_balanced = train_test_split(balanced_reviews_bag_of_words, df_balanced[\"stars\"], test_size=0.2, random_state=1)"
   ],
   "metadata": {
    "collapsed": false,
    "ExecuteTime": {
     "end_time": "2023-11-16T15:19:28.251689600Z",
     "start_time": "2023-11-16T15:19:28.199822400Z"
    }
   },
   "id": "d55968253dacbe3e"
  },
  {
   "cell_type": "code",
   "execution_count": 48,
   "outputs": [
    {
     "data": {
      "text/plain": "MultinomialNB()",
      "text/html": "<style>#sk-container-id-2 {color: black;background-color: white;}#sk-container-id-2 pre{padding: 0;}#sk-container-id-2 div.sk-toggleable {background-color: white;}#sk-container-id-2 label.sk-toggleable__label {cursor: pointer;display: block;width: 100%;margin-bottom: 0;padding: 0.3em;box-sizing: border-box;text-align: center;}#sk-container-id-2 label.sk-toggleable__label-arrow:before {content: \"▸\";float: left;margin-right: 0.25em;color: #696969;}#sk-container-id-2 label.sk-toggleable__label-arrow:hover:before {color: black;}#sk-container-id-2 div.sk-estimator:hover label.sk-toggleable__label-arrow:before {color: black;}#sk-container-id-2 div.sk-toggleable__content {max-height: 0;max-width: 0;overflow: hidden;text-align: left;background-color: #f0f8ff;}#sk-container-id-2 div.sk-toggleable__content pre {margin: 0.2em;color: black;border-radius: 0.25em;background-color: #f0f8ff;}#sk-container-id-2 input.sk-toggleable__control:checked~div.sk-toggleable__content {max-height: 200px;max-width: 100%;overflow: auto;}#sk-container-id-2 input.sk-toggleable__control:checked~label.sk-toggleable__label-arrow:before {content: \"▾\";}#sk-container-id-2 div.sk-estimator input.sk-toggleable__control:checked~label.sk-toggleable__label {background-color: #d4ebff;}#sk-container-id-2 div.sk-label input.sk-toggleable__control:checked~label.sk-toggleable__label {background-color: #d4ebff;}#sk-container-id-2 input.sk-hidden--visually {border: 0;clip: rect(1px 1px 1px 1px);clip: rect(1px, 1px, 1px, 1px);height: 1px;margin: -1px;overflow: hidden;padding: 0;position: absolute;width: 1px;}#sk-container-id-2 div.sk-estimator {font-family: monospace;background-color: #f0f8ff;border: 1px dotted black;border-radius: 0.25em;box-sizing: border-box;margin-bottom: 0.5em;}#sk-container-id-2 div.sk-estimator:hover {background-color: #d4ebff;}#sk-container-id-2 div.sk-parallel-item::after {content: \"\";width: 100%;border-bottom: 1px solid gray;flex-grow: 1;}#sk-container-id-2 div.sk-label:hover label.sk-toggleable__label {background-color: #d4ebff;}#sk-container-id-2 div.sk-serial::before {content: \"\";position: absolute;border-left: 1px solid gray;box-sizing: border-box;top: 0;bottom: 0;left: 50%;z-index: 0;}#sk-container-id-2 div.sk-serial {display: flex;flex-direction: column;align-items: center;background-color: white;padding-right: 0.2em;padding-left: 0.2em;position: relative;}#sk-container-id-2 div.sk-item {position: relative;z-index: 1;}#sk-container-id-2 div.sk-parallel {display: flex;align-items: stretch;justify-content: center;background-color: white;position: relative;}#sk-container-id-2 div.sk-item::before, #sk-container-id-2 div.sk-parallel-item::before {content: \"\";position: absolute;border-left: 1px solid gray;box-sizing: border-box;top: 0;bottom: 0;left: 50%;z-index: -1;}#sk-container-id-2 div.sk-parallel-item {display: flex;flex-direction: column;z-index: 1;position: relative;background-color: white;}#sk-container-id-2 div.sk-parallel-item:first-child::after {align-self: flex-end;width: 50%;}#sk-container-id-2 div.sk-parallel-item:last-child::after {align-self: flex-start;width: 50%;}#sk-container-id-2 div.sk-parallel-item:only-child::after {width: 0;}#sk-container-id-2 div.sk-dashed-wrapped {border: 1px dashed gray;margin: 0 0.4em 0.5em 0.4em;box-sizing: border-box;padding-bottom: 0.4em;background-color: white;}#sk-container-id-2 div.sk-label label {font-family: monospace;font-weight: bold;display: inline-block;line-height: 1.2em;}#sk-container-id-2 div.sk-label-container {text-align: center;}#sk-container-id-2 div.sk-container {/* jupyter's `normalize.less` sets `[hidden] { display: none; }` but bootstrap.min.css set `[hidden] { display: none !important; }` so we also need the `!important` here to be able to override the default hidden behavior on the sphinx rendered scikit-learn.org. See: https://github.com/scikit-learn/scikit-learn/issues/21755 */display: inline-block !important;position: relative;}#sk-container-id-2 div.sk-text-repr-fallback {display: none;}</style><div id=\"sk-container-id-2\" class=\"sk-top-container\"><div class=\"sk-text-repr-fallback\"><pre>MultinomialNB()</pre><b>In a Jupyter environment, please rerun this cell to show the HTML representation or trust the notebook. <br />On GitHub, the HTML representation is unable to render, please try loading this page with nbviewer.org.</b></div><div class=\"sk-container\" hidden><div class=\"sk-item\"><div class=\"sk-estimator sk-toggleable\"><input class=\"sk-toggleable__control sk-hidden--visually\" id=\"sk-estimator-id-2\" type=\"checkbox\" checked><label for=\"sk-estimator-id-2\" class=\"sk-toggleable__label sk-toggleable__label-arrow\">MultinomialNB</label><div class=\"sk-toggleable__content\"><pre>MultinomialNB()</pre></div></div></div></div></div>"
     },
     "execution_count": 48,
     "metadata": {},
     "output_type": "execute_result"
    }
   ],
   "source": [
    "# train\n",
    "clf_balanced = MultinomialNB()\n",
    "clf_balanced.fit(X_train_balanced, y_train_balanced)"
   ],
   "metadata": {
    "collapsed": false,
    "ExecuteTime": {
     "end_time": "2023-11-16T15:20:44.172640700Z",
     "start_time": "2023-11-16T15:20:44.085159Z"
    }
   },
   "id": "6ecbb87aca3f216d"
  },
  {
   "cell_type": "code",
   "execution_count": 49,
   "outputs": [],
   "source": [
    "# predict the test set\n",
    "y_pred_balanced = clf_balanced.predict(X_test_balanced)"
   ],
   "metadata": {
    "collapsed": false,
    "ExecuteTime": {
     "end_time": "2023-11-16T15:20:46.070345700Z",
     "start_time": "2023-11-16T15:20:46.000158100Z"
    }
   },
   "id": "e50032bb57d10b41"
  },
  {
   "cell_type": "markdown",
   "source": [
    "## Evaluate 2. Model attempt"
   ],
   "metadata": {
    "collapsed": false
   },
   "id": "38a7f8c4f6ed7fab"
  },
  {
   "cell_type": "code",
   "execution_count": 50,
   "outputs": [
    {
     "name": "stdout",
     "output_type": "stream",
     "text": [
      "Accuracy:  0.4657687991021324\n"
     ]
    }
   ],
   "source": [
    "# calculate the accuracy\n",
    "from sklearn.metrics import accuracy_score\n",
    "print('Accuracy: ', accuracy_score(y_test_balanced, y_pred_balanced))"
   ],
   "metadata": {
    "collapsed": false,
    "ExecuteTime": {
     "end_time": "2023-11-16T15:20:47.595092100Z",
     "start_time": "2023-11-16T15:20:47.537466500Z"
    }
   },
   "id": "549129a5bb05889f"
  },
  {
   "cell_type": "code",
   "execution_count": 51,
   "outputs": [
    {
     "data": {
      "text/plain": "<Figure size 1000x1000 with 2 Axes>",
      "image/png": "[encoded data removed]"
     },
     "metadata": {},
     "output_type": "display_data"
    }
   ],
   "source": [
    "# confusion matrix\n",
    "cm = confusion_matrix(y_test_balanced, y_pred_balanced, normalize='true')\n",
    "fig, ax = plt.subplots(figsize=(10,10))\n",
    "sns.heatmap(cm, annot=True, fmt='.0%', xticklabels=[1, 2, 3, 4, 5], yticklabels=[1, 2, 3, 4, 5], ax=ax)\n",
    "plt.ylabel('Actual')\n",
    "plt.xlabel('Predicted')\n",
    "plt.show()"
   ],
   "metadata": {
    "collapsed": false,
    "ExecuteTime": {
     "end_time": "2023-11-16T15:20:51.842887600Z",
     "start_time": "2023-11-16T15:20:51.477107900Z"
    }
   },
   "id": "ba0a38cc50b3dc10"
  },
  {
   "cell_type": "markdown",
   "source": [
    "The accuracy is quite a lot lower now, but overall, this is a more useful model.\n",
    "\n",
    "In the confusion matrix we can see that the model is better at predicting extreme reviews (1 and 5 star) than reviews in the middle. This makes sense because 2, 3 and 4 star reviews are more likely to use similar language, while 1 and 5 star reviews might use more extreme language."
   ],
   "metadata": {
    "collapsed": false
   },
   "id": "decfab20fd290e6c"
  },
  {
   "cell_type": "code",
   "execution_count": 57,
   "outputs": [
    {
     "name": "stdout",
     "output_type": "stream",
     "text": [
      "Balanced accuracy:  0.46500155515264796\n"
     ]
    }
   ],
   "source": [
    "# lets look at the balanced accuracy\n",
    "\n",
    "print('Balanced accuracy: ', balanced_accuracy_score(y_test_balanced, y_pred_balanced))"
   ],
   "metadata": {
    "collapsed": false,
    "ExecuteTime": {
     "end_time": "2023-11-16T15:31:36.426424Z",
     "start_time": "2023-11-16T15:31:36.359975Z"
    }
   },
   "id": "585775d2ab2e602b"
  },
  {
   "cell_type": "markdown",
   "source": [
    "As we can see, for the second model, the balanced accuracy is exactly the same as the accuracy. This is because the dataset was is balanced. The balanced accuracy is now significantly higher than for the first model."
   ],
   "metadata": {
    "collapsed": false
   },
   "id": "c2496f1094a082bc"
  },
  {
   "cell_type": "code",
   "execution_count": 55,
   "outputs": [
    {
     "name": "stdout",
     "output_type": "stream",
     "text": [
      "0.8406285072951739\n"
     ]
    }
   ],
   "source": [
    "# Look at the accuracy with a tolerance of 1 star\n",
    "def custom_accuracy(y_true, y_pred):\n",
    "    # Clip the predictions to be within the range [1, 5]\n",
    "    y_pred = np.clip(y_pred, 1, 5)\n",
    "    \n",
    "    # Calculate the absolute difference between true and predicted values\n",
    "    absolute_diff = np.abs(y_true - y_pred)\n",
    "    \n",
    "    # Check if the absolute difference is within the tolerance of ±1\n",
    "    within_tolerance = np.less_equal(absolute_diff, 1)\n",
    "    \n",
    "    # Calculate the percentage of predictions within the tolerance\n",
    "    accuracy = np.mean(within_tolerance)\n",
    "    \n",
    "    return accuracy\n",
    "\n",
    "print(custom_accuracy(y_test_balanced, y_pred_balanced))"
   ],
   "metadata": {
    "collapsed": false,
    "ExecuteTime": {
     "end_time": "2023-11-16T15:29:02.180851300Z",
     "start_time": "2023-11-16T15:29:02.026340600Z"
    }
   },
   "id": "3cfccf5ce768969f"
  },
  {
   "cell_type": "markdown",
   "source": [
    "We can see that the accuracy is a lot higher when we allow the model to be off by 1 star."
   ],
   "metadata": {
    "collapsed": false
   },
   "id": "bc6409d5392d7a13"
  },
  {
   "cell_type": "code",
   "execution_count": null,
   "outputs": [],
   "source": [],
   "metadata": {
    "collapsed": false
   },
   "id": "7a1bcd64b3209e52"
  }
 ],
 "metadata": {
  "kernelspec": {
   "display_name": "Python 3",
   "language": "python",
   "name": "python3"
  },
  "language_info": {
   "codemirror_mode": {
    "name": "ipython",
    "version": 2
   },
   "file_extension": ".py",
   "mimetype": "text/x-python",
   "name": "python",
   "nbconvert_exporter": "python",
   "pygments_lexer": "ipython2",
   "version": "2.7.6"
  }
 },
 "nbformat": 4,
 "nbformat_minor": 5
}
