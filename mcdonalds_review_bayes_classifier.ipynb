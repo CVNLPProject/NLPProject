{
 "cells": [
  {
   "cell_type": "markdown",
   "id": "d12d111ce7df47e1",
   "metadata": {},
   "source": [
    "# McDonald's Reviews\n",
    "In this notebook we train a naive Bayes classifier to predict the number of stars of a review.\n"
   ]
  },
  {
   "cell_type": "code",
   "execution_count": 2,
   "id": "d474d7f57dfa1b54",
   "metadata": {
    "ExecuteTime": {
     "end_time": "2023-11-21T22:13:05.347330900Z",
     "start_time": "2023-11-21T22:12:54.570081600Z"
    }
   },
   "outputs": [],
   "source": [
    "import pandas as pd\n",
    "import nltk\n",
    "import spacy\n",
    "from sklearn.model_selection import train_test_split\n",
    "from sklearn.feature_extraction.text import CountVectorizer\n",
    "from sklearn.naive_bayes import MultinomialNB\n",
    "from sklearn.metrics import accuracy_score\n",
    "from sklearn.metrics import confusion_matrix\n",
    "import numpy as np"
   ]
  },
  {
   "cell_type": "markdown",
   "id": "70a1b0f53db4ec31",
   "metadata": {},
   "source": [
    "## Load and explore data"
   ]
  },
  {
   "cell_type": "code",
   "execution_count": 3,
   "id": "e61df41835bc7bdd",
   "metadata": {
    "ExecuteTime": {
     "end_time": "2023-11-21T22:13:07.483510200Z",
     "start_time": "2023-11-21T22:13:07.346784900Z"
    }
   },
   "outputs": [
    {
     "name": "stdout",
     "output_type": "stream",
     "text": [
      "<class 'pandas.core.frame.DataFrame'>\n",
      "RangeIndex: 18149 entries, 0 to 18148\n",
      "Data columns (total 3 columns):\n",
      " #   Column       Non-Null Count  Dtype  \n",
      "---  ------       --------------  -----  \n",
      " 0   business_id  18149 non-null  object \n",
      " 1   stars        18149 non-null  float64\n",
      " 2   text         18149 non-null  object \n",
      "dtypes: float64(1), object(2)\n",
      "memory usage: 425.5+ KB\n",
      "None\n"
     ]
    }
   ],
   "source": [
    "df = pd.read_csv(\"csv/mcdonalds_reviews.csv\", encoding=\"latin-1\")\n",
    "print(df.info())"
   ]
  },
  {
   "cell_type": "code",
   "execution_count": 4,
   "id": "418ea1675bff885",
   "metadata": {
    "ExecuteTime": {
     "end_time": "2023-11-21T22:13:07.937611500Z",
     "start_time": "2023-11-21T22:13:07.921084500Z"
    }
   },
   "outputs": [
    {
     "name": "stdout",
     "output_type": "stream",
     "text": [
      "[2. 1. 4. 5. 3.]\n"
     ]
    }
   ],
   "source": [
    "#check for faulty stars values \n",
    "unique_stars = df[\"stars\"].unique()\n",
    "print(unique_stars)"
   ]
  },
  {
   "cell_type": "code",
   "execution_count": 5,
   "id": "f586f530ae52a9fa",
   "metadata": {
    "ExecuteTime": {
     "end_time": "2023-11-21T22:13:08.364861500Z",
     "start_time": "2023-11-21T22:13:08.339285Z"
    }
   },
   "outputs": [
    {
     "name": "stdout",
     "output_type": "stream",
     "text": [
      "business_id     object\n",
      "stars          float64\n",
      "text            object\n",
      "dtype: object\n"
     ]
    }
   ],
   "source": [
    "#cast stars to int\n",
    "print(df.dtypes)"
   ]
  },
  {
   "cell_type": "code",
   "execution_count": 6,
   "id": "572f2d1db755a096",
   "metadata": {
    "ExecuteTime": {
     "end_time": "2023-11-21T22:13:08.748345200Z",
     "start_time": "2023-11-21T22:13:08.719702500Z"
    }
   },
   "outputs": [],
   "source": [
    "df[\"stars\"] = df[\"stars\"].astype(int)"
   ]
  },
  {
   "cell_type": "code",
   "execution_count": 7,
   "id": "553a0693483b08c1",
   "metadata": {
    "ExecuteTime": {
     "end_time": "2023-11-21T22:13:09.103911500Z",
     "start_time": "2023-11-21T22:13:09.079377400Z"
    }
   },
   "outputs": [
    {
     "name": "stdout",
     "output_type": "stream",
     "text": [
      "business_id    0\n",
      "stars          0\n",
      "text           0\n",
      "dtype: int64\n"
     ]
    }
   ],
   "source": [
    "# check for empty values\n",
    "print(df.isnull().sum())"
   ]
  },
  {
   "cell_type": "code",
   "execution_count": 8,
   "id": "641c37548e875eb9",
   "metadata": {
    "ExecuteTime": {
     "end_time": "2023-11-21T22:13:09.447144600Z",
     "start_time": "2023-11-21T22:13:09.424352900Z"
    }
   },
   "outputs": [
    {
     "name": "stdout",
     "output_type": "stream",
     "text": [
      "Empty DataFrame\n",
      "Columns: [business_id, stars, text]\n",
      "Index: []\n"
     ]
    }
   ],
   "source": [
    "# check for empty strings in the text\n",
    "print(df[df[\"text\"] == \"\"])"
   ]
  },
  {
   "cell_type": "code",
   "execution_count": 9,
   "id": "b3e45ad8bc8d53b0",
   "metadata": {
    "ExecuteTime": {
     "end_time": "2023-11-21T22:13:09.798171400Z",
     "start_time": "2023-11-21T22:13:09.763553600Z"
    }
   },
   "outputs": [
    {
     "name": "stdout",
     "output_type": "stream",
     "text": [
      "Empty DataFrame\n",
      "Columns: [business_id, stars, text]\n",
      "Index: []\n"
     ]
    }
   ],
   "source": [
    "# check for reviews that are only whitespaces\n",
    "print(df[df[\"text\"].str.isspace()])"
   ]
  },
  {
   "cell_type": "code",
   "execution_count": 10,
   "id": "f2f21efd3ae716c5",
   "metadata": {
    "ExecuteTime": {
     "end_time": "2023-11-21T22:13:10.064902500Z",
     "start_time": "2023-11-21T22:13:10.043275200Z"
    }
   },
   "outputs": [
    {
     "name": "stdout",
     "output_type": "stream",
     "text": [
      "stars\n",
      "1    12277\n",
      "2     1849\n",
      "5     1591\n",
      "3     1294\n",
      "4     1138\n",
      "Name: count, dtype: int64\n"
     ]
    }
   ],
   "source": [
    "# look at distribution of stars\n",
    "print(df[\"stars\"].value_counts())"
   ]
  },
  {
   "cell_type": "markdown",
   "id": "5d56f5c8bd3abf03",
   "metadata": {},
   "source": [
    "## Preprocessing"
   ]
  },
  {
   "cell_type": "code",
   "execution_count": 11,
   "id": "93abe78713b18ed",
   "metadata": {
    "ExecuteTime": {
     "end_time": "2023-11-21T22:13:10.821517Z",
     "start_time": "2023-11-21T22:13:10.795449Z"
    }
   },
   "outputs": [],
   "source": [
    "# make lowercase\n",
    "df[\"text\"] = df[\"text\"].str.lower()"
   ]
  },
  {
   "cell_type": "code",
   "execution_count": 12,
   "id": "24f584d88e087e6a",
   "metadata": {
    "ExecuteTime": {
     "end_time": "2023-11-21T22:13:11.145605500Z",
     "start_time": "2023-11-21T22:13:11.118712400Z"
    }
   },
   "outputs": [],
   "source": [
    "# remove anything but letters\n",
    "df[\"text\"] = df[\"text\"].str.replace('[^a-z]', ' ')"
   ]
  },
  {
   "cell_type": "code",
   "execution_count": 13,
   "id": "eb776e7922c239c7",
   "metadata": {
    "ExecuteTime": {
     "end_time": "2023-11-21T22:13:18.307762Z",
     "start_time": "2023-11-21T22:13:11.603232800Z"
    }
   },
   "outputs": [
    {
     "name": "stdout",
     "output_type": "stream",
     "text": [
      "✔ Download and installation successful\n",
      "You can now load the package via spacy.load('en_core_web_sm')\n"
     ]
    }
   ],
   "source": [
    "# remove stopwords\n",
    "spacy.cli.download('en_core_web_sm')\n",
    "spacy.load('en_core_web_sm')\n",
    "stopwords = spacy.lang.en.stop_words.STOP_WORDS\n",
    "df[\"text\"]  = df[\"text\"] .apply(lambda x: ' '.join([word for word in x.split() if word not in stopwords]))"
   ]
  },
  {
   "cell_type": "code",
   "execution_count": 14,
   "id": "d1f878a2aeba02dc",
   "metadata": {
    "ExecuteTime": {
     "end_time": "2023-11-21T22:13:24.916163900Z",
     "start_time": "2023-11-21T22:13:18.311777100Z"
    }
   },
   "outputs": [
    {
     "name": "stderr",
     "output_type": "stream",
     "text": [
      "[nltk_data] Downloading package wordnet to\n",
      "[nltk_data]     C:\\Users\\flyin\\AppData\\Roaming\\nltk_data...\n",
      "[nltk_data]   Package wordnet is already up-to-date!\n",
      "[nltk_data] Downloading package omw-1.4 to\n",
      "[nltk_data]     C:\\Users\\flyin\\AppData\\Roaming\\nltk_data...\n",
      "[nltk_data]   Package omw-1.4 is already up-to-date!\n"
     ]
    }
   ],
   "source": [
    "# lemmatize\n",
    "nltk.download('wordnet')\n",
    "nltk.download('omw-1.4')\n",
    "wnl = nltk.WordNetLemmatizer()\n",
    "df[\"text\"] = df[\"text\"].apply(lambda x: ' '.join([wnl.lemmatize(word) for word in x.split()]))"
   ]
  },
  {
   "cell_type": "code",
   "execution_count": 15,
   "id": "5ca1aeb5e9ec116f",
   "metadata": {
    "ExecuteTime": {
     "end_time": "2023-11-21T22:13:24.933195Z",
     "start_time": "2023-11-21T22:13:24.918166Z"
    }
   },
   "outputs": [
    {
     "name": "stdout",
     "output_type": "stream",
     "text": [
      "0    mcdonalds closest home, forever drive distance...\n",
      "1    know shouldn't expect asked drive menu availab...\n",
      "2    i've eaten gotten food drive-thru times, food ...\n",
      "3    mood quick bite mcdonald's.i thought place go....\n",
      "4    amber tried old fry weren't having it. cold bu...\n",
      "5    giving 5 star shamrock shake delicious!! bad i...\n",
      "6    good customer service. great manager. louder m...\n",
      "7    agree previous reviews, satisfactory. drive-th...\n",
      "8    mcdonalds... need know?.. serve purpose. i'd c...\n",
      "9    mcdonalds terrible. place dirty, employee long...\n",
      "Name: text, dtype: object\n"
     ]
    }
   ],
   "source": [
    "# look at some examples\n",
    "print(df[\"text\"].head(10))"
   ]
  },
  {
   "cell_type": "code",
   "execution_count": 16,
   "id": "85c0698a5722ce8a",
   "metadata": {
    "ExecuteTime": {
     "end_time": "2023-11-21T22:13:24.990901200Z",
     "start_time": "2023-11-21T22:13:24.935193800Z"
    }
   },
   "outputs": [
    {
     "name": "stdout",
     "output_type": "stream",
     "text": [
      "0    mcdonalds closest home, forever drive distance...\n",
      "1    know shouldn't expect asked drive menu availab...\n",
      "2    i've eaten gotten food drive-thru times, food ...\n",
      "3    mood quick bite mcdonald's.i thought place go....\n",
      "4    amber tried old fry weren't having it. cold bu...\n",
      "5    giving 5 star shamrock shake delicious!! bad i...\n",
      "6    good customer service. great manager. louder m...\n",
      "7    agree previous reviews, satisfactory. drive-th...\n",
      "8    mcdonalds... need know?.. serve purpose. i'd c...\n",
      "9    mcdonalds terrible. place dirty, employee long...\n",
      "Name: text, dtype: object\n"
     ]
    }
   ],
   "source": [
    "# collapse whitespaces and remove leading and trailing whitespaces\n",
    "df[\"text\"] = df[\"text\"].str.replace(' +', ' ')\n",
    "df[\"text\"] = df[\"text\"].str.strip()\n",
    "\n",
    "print(df[\"text\"].head(10))"
   ]
  },
  {
   "cell_type": "markdown",
   "id": "e653d79f89f7ff37",
   "metadata": {},
   "source": [
    "## Vectorization"
   ]
  },
  {
   "cell_type": "code",
   "execution_count": 17,
   "id": "a0c2e4c084c8fda4",
   "metadata": {
    "ExecuteTime": {
     "end_time": "2023-11-21T22:13:25.661318400Z",
     "start_time": "2023-11-21T22:13:24.975862400Z"
    }
   },
   "outputs": [],
   "source": [
    "# we first use CountVectorizer to create a bag of words\n",
    "vectorizer = CountVectorizer()\n",
    "reviews_bag_of_words = vectorizer.fit_transform(df[\"text\"])"
   ]
  },
  {
   "cell_type": "markdown",
   "id": "62f9c29ff6c1317a",
   "metadata": {},
   "source": [
    "## Train-Test split"
   ]
  },
  {
   "cell_type": "code",
   "execution_count": 18,
   "id": "f8571d1361758d83",
   "metadata": {
    "ExecuteTime": {
     "end_time": "2023-11-21T22:13:25.678429Z",
     "start_time": "2023-11-21T22:13:25.664820100Z"
    }
   },
   "outputs": [],
   "source": [
    "# split into training and test set\n",
    "X_train, X_test, y_train, y_test = train_test_split(reviews_bag_of_words, df[\"stars\"], test_size=0.2, random_state=1)"
   ]
  },
  {
   "cell_type": "markdown",
   "id": "16a9e04b4fd50715",
   "metadata": {},
   "source": [
    "## Train Model and predict"
   ]
  },
  {
   "cell_type": "code",
   "execution_count": 19,
   "id": "37d5d149de53f1ce",
   "metadata": {
    "ExecuteTime": {
     "end_time": "2023-11-21T22:13:25.728096200Z",
     "start_time": "2023-11-21T22:13:25.680446300Z"
    }
   },
   "outputs": [
    {
     "data": {
      "text/html": [
       "<style>#sk-container-id-1 {color: black;}#sk-container-id-1 pre{padding: 0;}#sk-container-id-1 div.sk-toggleable {background-color: white;}#sk-container-id-1 label.sk-toggleable__label {cursor: pointer;display: block;width: 100%;margin-bottom: 0;padding: 0.3em;box-sizing: border-box;text-align: center;}#sk-container-id-1 label.sk-toggleable__label-arrow:before {content: \"▸\";float: left;margin-right: 0.25em;color: #696969;}#sk-container-id-1 label.sk-toggleable__label-arrow:hover:before {color: black;}#sk-container-id-1 div.sk-estimator:hover label.sk-toggleable__label-arrow:before {color: black;}#sk-container-id-1 div.sk-toggleable__content {max-height: 0;max-width: 0;overflow: hidden;text-align: left;background-color: #f0f8ff;}#sk-container-id-1 div.sk-toggleable__content pre {margin: 0.2em;color: black;border-radius: 0.25em;background-color: #f0f8ff;}#sk-container-id-1 input.sk-toggleable__control:checked~div.sk-toggleable__content {max-height: 200px;max-width: 100%;overflow: auto;}#sk-container-id-1 input.sk-toggleable__control:checked~label.sk-toggleable__label-arrow:before {content: \"▾\";}#sk-container-id-1 div.sk-estimator input.sk-toggleable__control:checked~label.sk-toggleable__label {background-color: #d4ebff;}#sk-container-id-1 div.sk-label input.sk-toggleable__control:checked~label.sk-toggleable__label {background-color: #d4ebff;}#sk-container-id-1 input.sk-hidden--visually {border: 0;clip: rect(1px 1px 1px 1px);clip: rect(1px, 1px, 1px, 1px);height: 1px;margin: -1px;overflow: hidden;padding: 0;position: absolute;width: 1px;}#sk-container-id-1 div.sk-estimator {font-family: monospace;background-color: #f0f8ff;border: 1px dotted black;border-radius: 0.25em;box-sizing: border-box;margin-bottom: 0.5em;}#sk-container-id-1 div.sk-estimator:hover {background-color: #d4ebff;}#sk-container-id-1 div.sk-parallel-item::after {content: \"\";width: 100%;border-bottom: 1px solid gray;flex-grow: 1;}#sk-container-id-1 div.sk-label:hover label.sk-toggleable__label {background-color: #d4ebff;}#sk-container-id-1 div.sk-serial::before {content: \"\";position: absolute;border-left: 1px solid gray;box-sizing: border-box;top: 0;bottom: 0;left: 50%;z-index: 0;}#sk-container-id-1 div.sk-serial {display: flex;flex-direction: column;align-items: center;background-color: white;padding-right: 0.2em;padding-left: 0.2em;position: relative;}#sk-container-id-1 div.sk-item {position: relative;z-index: 1;}#sk-container-id-1 div.sk-parallel {display: flex;align-items: stretch;justify-content: center;background-color: white;position: relative;}#sk-container-id-1 div.sk-item::before, #sk-container-id-1 div.sk-parallel-item::before {content: \"\";position: absolute;border-left: 1px solid gray;box-sizing: border-box;top: 0;bottom: 0;left: 50%;z-index: -1;}#sk-container-id-1 div.sk-parallel-item {display: flex;flex-direction: column;z-index: 1;position: relative;background-color: white;}#sk-container-id-1 div.sk-parallel-item:first-child::after {align-self: flex-end;width: 50%;}#sk-container-id-1 div.sk-parallel-item:last-child::after {align-self: flex-start;width: 50%;}#sk-container-id-1 div.sk-parallel-item:only-child::after {width: 0;}#sk-container-id-1 div.sk-dashed-wrapped {border: 1px dashed gray;margin: 0 0.4em 0.5em 0.4em;box-sizing: border-box;padding-bottom: 0.4em;background-color: white;}#sk-container-id-1 div.sk-label label {font-family: monospace;font-weight: bold;display: inline-block;line-height: 1.2em;}#sk-container-id-1 div.sk-label-container {text-align: center;}#sk-container-id-1 div.sk-container {/* jupyter's `normalize.less` sets `[hidden] { display: none; }` but bootstrap.min.css set `[hidden] { display: none !important; }` so we also need the `!important` here to be able to override the default hidden behavior on the sphinx rendered scikit-learn.org. See: https://github.com/scikit-learn/scikit-learn/issues/21755 */display: inline-block !important;position: relative;}#sk-container-id-1 div.sk-text-repr-fallback {display: none;}</style><div id=\"sk-container-id-1\" class=\"sk-top-container\"><div class=\"sk-text-repr-fallback\"><pre>MultinomialNB()</pre><b>In a Jupyter environment, please rerun this cell to show the HTML representation or trust the notebook. <br />On GitHub, the HTML representation is unable to render, please try loading this page with nbviewer.org.</b></div><div class=\"sk-container\" hidden><div class=\"sk-item\"><div class=\"sk-estimator sk-toggleable\"><input class=\"sk-toggleable__control sk-hidden--visually\" id=\"sk-estimator-id-1\" type=\"checkbox\" checked><label for=\"sk-estimator-id-1\" class=\"sk-toggleable__label sk-toggleable__label-arrow\">MultinomialNB</label><div class=\"sk-toggleable__content\"><pre>MultinomialNB()</pre></div></div></div></div></div>"
      ],
      "text/plain": [
       "MultinomialNB()"
      ]
     },
     "execution_count": 19,
     "metadata": {},
     "output_type": "execute_result"
    }
   ],
   "source": [
    "# train a Multinomial Naive Bayes classifier\n",
    "clf = MultinomialNB()\n",
    "clf.fit(X_train, y_train)"
   ]
  },
  {
   "cell_type": "code",
   "execution_count": 20,
   "id": "35bc77aa98492ff4",
   "metadata": {
    "ExecuteTime": {
     "end_time": "2023-11-21T22:13:25.728096200Z",
     "start_time": "2023-11-21T22:13:25.709079300Z"
    }
   },
   "outputs": [],
   "source": [
    "# predict the test set\n",
    "y_pred = clf.predict(X_test)"
   ]
  },
  {
   "cell_type": "markdown",
   "id": "b3adfe8e9c518467",
   "metadata": {},
   "source": [
    "## Evaluate model"
   ]
  },
  {
   "cell_type": "code",
   "execution_count": 21,
   "id": "ae3521846e10ac80",
   "metadata": {
    "ExecuteTime": {
     "end_time": "2023-11-21T22:13:25.747631400Z",
     "start_time": "2023-11-21T22:13:25.726095900Z"
    }
   },
   "outputs": [
    {
     "name": "stdout",
     "output_type": "stream",
     "text": [
      "Accuracy:  0.7258953168044077\n"
     ]
    }
   ],
   "source": [
    "# calculate the accuracy\n",
    "from sklearn.metrics import accuracy_score\n",
    "print('Accuracy: ', accuracy_score(y_test, y_pred))"
   ]
  },
  {
   "cell_type": "code",
   "execution_count": 22,
   "id": "7cd9611dcdf4a0c2",
   "metadata": {
    "ExecuteTime": {
     "end_time": "2023-11-21T22:13:26.149110800Z",
     "start_time": "2023-11-21T22:13:25.745632100Z"
    }
   },
   "outputs": [
    {
     "data": {
      "image/png": "[encoded data removed]",
      "text/plain": [
       "<Figure size 1000x1000 with 2 Axes>"
      ]
     },
     "metadata": {},
     "output_type": "display_data"
    }
   ],
   "source": [
    "# we create the confusion matrix with percent values\n",
    "cm = confusion_matrix(y_test, y_pred, normalize='true')\n",
    "\n",
    "# we plot the confusion matrix\n",
    "import seaborn as sns\n",
    "import matplotlib.pyplot as plt\n",
    "\n",
    "fig, ax = plt.subplots(figsize=(10,10))\n",
    "sns.heatmap(cm, annot=True, fmt='.0%', xticklabels=[1, 2, 3, 4, 5], yticklabels=[1, 2, 3, 4, 5], ax=ax)\n",
    "plt.ylabel('Actual')\n",
    "plt.xlabel('Predicted')\n",
    "plt.show()"
   ]
  },
  {
   "cell_type": "markdown",
   "id": "5d855d4b6d4e6e77",
   "metadata": {},
   "source": [
    "The accuracy is of our model appears quite good at first, but when we look at the confusion matrix, we can see that it is only good at predicting 1 star reviews. This might be due to our data being very imbalanced:"
   ]
  },
  {
   "cell_type": "code",
   "execution_count": 23,
   "id": "e1ac61a078657cb5",
   "metadata": {
    "ExecuteTime": {
     "end_time": "2023-11-21T22:13:26.162639900Z",
     "start_time": "2023-11-21T22:13:26.146105200Z"
    }
   },
   "outputs": [
    {
     "name": "stdout",
     "output_type": "stream",
     "text": [
      "stars\n",
      "1    9839\n",
      "2    1477\n",
      "5    1277\n",
      "3    1035\n",
      "4     891\n",
      "Name: count, dtype: int64\n"
     ]
    }
   ],
   "source": [
    "print(y_train.value_counts())"
   ]
  },
  {
   "cell_type": "code",
   "execution_count": 24,
   "id": "f25900860486c21",
   "metadata": {
    "ExecuteTime": {
     "end_time": "2023-11-21T22:13:42.914289600Z",
     "start_time": "2023-11-21T22:13:42.704259100Z"
    }
   },
   "outputs": [
    {
     "data": {
      "image/png": "[encoded data removed]",
      "text/plain": [
       "<Figure size 640x480 with 1 Axes>"
      ]
     },
     "metadata": {},
     "output_type": "display_data"
    }
   ],
   "source": [
    "# visualize the distribution of stars in the training set\n",
    "import matplotlib.pyplot as plt\n",
    "plt.hist(y_train, bins=[1, 2, 3, 4, 5, 6], align='left', rwidth=0.5)\n",
    "plt.xticks([1, 2, 3, 4, 5])\n",
    "plt.xlabel('Stars')\n",
    "plt.ylabel('Count')\n",
    "plt.show()"
   ]
  },
  {
   "cell_type": "code",
   "execution_count": 26,
   "id": "1bf9862951ee967e",
   "metadata": {
    "ExecuteTime": {
     "end_time": "2023-11-21T22:19:58.131589200Z",
     "start_time": "2023-11-21T22:19:58.102059800Z"
    }
   },
   "outputs": [
    {
     "name": "stdout",
     "output_type": "stream",
     "text": [
      "Balanced accuracy:  0.38425740195785624\n"
     ]
    }
   ],
   "source": [
    "# lets look at the balanced accuracy\n",
    "from sklearn.metrics import balanced_accuracy_score\n",
    "print('Balanced accuracy: ', balanced_accuracy_score(y_test, y_pred))"
   ]
  },
  {
   "cell_type": "markdown",
   "id": "399b7c7a5c488a2",
   "metadata": {},
   "source": [
    "## 2. attempt with balanced data\n",
    "\n",
    "Now we try to improve the model by balancing the dataset to removing the bias towards 1-star reviews. We do this by downsampling the majority class."
   ]
  },
  {
   "cell_type": "code",
   "execution_count": 27,
   "id": "39d55af173fe2f28",
   "metadata": {
    "ExecuteTime": {
     "end_time": "2023-11-21T22:19:59.124114400Z",
     "start_time": "2023-11-21T22:19:59.090518700Z"
    }
   },
   "outputs": [],
   "source": [
    "# we remove reviews for each star until there are only 891 reviews left for each star (this is the lowest number of reviews for a star)\n",
    "df_balanced = df.groupby('stars').apply(lambda x: x.sample(n=891, random_state=1)).reset_index(drop = True)"
   ]
  },
  {
   "cell_type": "code",
   "execution_count": 28,
   "id": "c602c4e35c45b18a",
   "metadata": {
    "ExecuteTime": {
     "end_time": "2023-11-21T22:20:00.213200100Z",
     "start_time": "2023-11-21T22:20:00.192656200Z"
    }
   },
   "outputs": [
    {
     "name": "stdout",
     "output_type": "stream",
     "text": [
      "stars\n",
      "1    891\n",
      "2    891\n",
      "3    891\n",
      "4    891\n",
      "5    891\n",
      "Name: count, dtype: int64\n"
     ]
    }
   ],
   "source": [
    "print(df_balanced[\"stars\"].value_counts())"
   ]
  },
  {
   "cell_type": "code",
   "execution_count": 33,
   "id": "531acb44d9916959",
   "metadata": {
    "ExecuteTime": {
     "end_time": "2023-11-21T22:20:50.129423700Z",
     "start_time": "2023-11-21T22:20:49.931490400Z"
    }
   },
   "outputs": [
    {
     "data": {
      "image/png": "[encoded data removed]",
      "text/plain": [
       "<Figure size 640x480 with 1 Axes>"
      ]
     },
     "metadata": {},
     "output_type": "display_data"
    }
   ],
   "source": [
    "# visualize the distribution of stars in the training set\n",
    "import matplotlib.pyplot as plt\n",
    "plt.hist(df_balanced[\"stars\"], bins=[1, 2, 3, 4, 5, 6], align='left', rwidth=0.5)\n",
    "plt.xticks([1, 2, 3, 4, 5])\n",
    "plt.xlabel('Stars')\n",
    "plt.ylabel('Count')\n",
    "# y scale to 10 000\n",
    "plt.ylim(0, 10400)\n",
    "\n",
    "plt.show()"
   ]
  },
  {
   "cell_type": "code",
   "execution_count": 46,
   "id": "1d305d177776a1c2",
   "metadata": {
    "ExecuteTime": {
     "end_time": "2023-11-16T15:19:26.588461100Z",
     "start_time": "2023-11-16T15:19:26.419682200Z"
    }
   },
   "outputs": [],
   "source": [
    "# create a bag of words\n",
    "vectorizer = CountVectorizer()\n",
    "balanced_reviews_bag_of_words = vectorizer.fit_transform(df_balanced[\"text\"])"
   ]
  },
  {
   "cell_type": "code",
   "execution_count": 47,
   "id": "d55968253dacbe3e",
   "metadata": {
    "ExecuteTime": {
     "end_time": "2023-11-16T15:19:28.251689600Z",
     "start_time": "2023-11-16T15:19:28.199822400Z"
    }
   },
   "outputs": [],
   "source": [
    "# split\n",
    "X_train_balanced, X_test_balanced, y_train_balanced, y_test_balanced = train_test_split(balanced_reviews_bag_of_words, df_balanced[\"stars\"], test_size=0.2, random_state=1)"
   ]
  },
  {
   "cell_type": "code",
   "execution_count": 48,
   "id": "6ecbb87aca3f216d",
   "metadata": {
    "ExecuteTime": {
     "end_time": "2023-11-16T15:20:44.172640700Z",
     "start_time": "2023-11-16T15:20:44.085159Z"
    }
   },
   "outputs": [
    {
     "data": {
      "text/html": [
       "<style>#sk-container-id-2 {color: black;background-color: white;}#sk-container-id-2 pre{padding: 0;}#sk-container-id-2 div.sk-toggleable {background-color: white;}#sk-container-id-2 label.sk-toggleable__label {cursor: pointer;display: block;width: 100%;margin-bottom: 0;padding: 0.3em;box-sizing: border-box;text-align: center;}#sk-container-id-2 label.sk-toggleable__label-arrow:before {content: \"▸\";float: left;margin-right: 0.25em;color: #696969;}#sk-container-id-2 label.sk-toggleable__label-arrow:hover:before {color: black;}#sk-container-id-2 div.sk-estimator:hover label.sk-toggleable__label-arrow:before {color: black;}#sk-container-id-2 div.sk-toggleable__content {max-height: 0;max-width: 0;overflow: hidden;text-align: left;background-color: #f0f8ff;}#sk-container-id-2 div.sk-toggleable__content pre {margin: 0.2em;color: black;border-radius: 0.25em;background-color: #f0f8ff;}#sk-container-id-2 input.sk-toggleable__control:checked~div.sk-toggleable__content {max-height: 200px;max-width: 100%;overflow: auto;}#sk-container-id-2 input.sk-toggleable__control:checked~label.sk-toggleable__label-arrow:before {content: \"▾\";}#sk-container-id-2 div.sk-estimator input.sk-toggleable__control:checked~label.sk-toggleable__label {background-color: #d4ebff;}#sk-container-id-2 div.sk-label input.sk-toggleable__control:checked~label.sk-toggleable__label {background-color: #d4ebff;}#sk-container-id-2 input.sk-hidden--visually {border: 0;clip: rect(1px 1px 1px 1px);clip: rect(1px, 1px, 1px, 1px);height: 1px;margin: -1px;overflow: hidden;padding: 0;position: absolute;width: 1px;}#sk-container-id-2 div.sk-estimator {font-family: monospace;background-color: #f0f8ff;border: 1px dotted black;border-radius: 0.25em;box-sizing: border-box;margin-bottom: 0.5em;}#sk-container-id-2 div.sk-estimator:hover {background-color: #d4ebff;}#sk-container-id-2 div.sk-parallel-item::after {content: \"\";width: 100%;border-bottom: 1px solid gray;flex-grow: 1;}#sk-container-id-2 div.sk-label:hover label.sk-toggleable__label {background-color: #d4ebff;}#sk-container-id-2 div.sk-serial::before {content: \"\";position: absolute;border-left: 1px solid gray;box-sizing: border-box;top: 0;bottom: 0;left: 50%;z-index: 0;}#sk-container-id-2 div.sk-serial {display: flex;flex-direction: column;align-items: center;background-color: white;padding-right: 0.2em;padding-left: 0.2em;position: relative;}#sk-container-id-2 div.sk-item {position: relative;z-index: 1;}#sk-container-id-2 div.sk-parallel {display: flex;align-items: stretch;justify-content: center;background-color: white;position: relative;}#sk-container-id-2 div.sk-item::before, #sk-container-id-2 div.sk-parallel-item::before {content: \"\";position: absolute;border-left: 1px solid gray;box-sizing: border-box;top: 0;bottom: 0;left: 50%;z-index: -1;}#sk-container-id-2 div.sk-parallel-item {display: flex;flex-direction: column;z-index: 1;position: relative;background-color: white;}#sk-container-id-2 div.sk-parallel-item:first-child::after {align-self: flex-end;width: 50%;}#sk-container-id-2 div.sk-parallel-item:last-child::after {align-self: flex-start;width: 50%;}#sk-container-id-2 div.sk-parallel-item:only-child::after {width: 0;}#sk-container-id-2 div.sk-dashed-wrapped {border: 1px dashed gray;margin: 0 0.4em 0.5em 0.4em;box-sizing: border-box;padding-bottom: 0.4em;background-color: white;}#sk-container-id-2 div.sk-label label {font-family: monospace;font-weight: bold;display: inline-block;line-height: 1.2em;}#sk-container-id-2 div.sk-label-container {text-align: center;}#sk-container-id-2 div.sk-container {/* jupyter's `normalize.less` sets `[hidden] { display: none; }` but bootstrap.min.css set `[hidden] { display: none !important; }` so we also need the `!important` here to be able to override the default hidden behavior on the sphinx rendered scikit-learn.org. See: https://github.com/scikit-learn/scikit-learn/issues/21755 */display: inline-block !important;position: relative;}#sk-container-id-2 div.sk-text-repr-fallback {display: none;}</style><div id=\"sk-container-id-2\" class=\"sk-top-container\"><div class=\"sk-text-repr-fallback\"><pre>MultinomialNB()</pre><b>In a Jupyter environment, please rerun this cell to show the HTML representation or trust the notebook. <br />On GitHub, the HTML representation is unable to render, please try loading this page with nbviewer.org.</b></div><div class=\"sk-container\" hidden><div class=\"sk-item\"><div class=\"sk-estimator sk-toggleable\"><input class=\"sk-toggleable__control sk-hidden--visually\" id=\"sk-estimator-id-2\" type=\"checkbox\" checked><label for=\"sk-estimator-id-2\" class=\"sk-toggleable__label sk-toggleable__label-arrow\">MultinomialNB</label><div class=\"sk-toggleable__content\"><pre>MultinomialNB()</pre></div></div></div></div></div>"
      ],
      "text/plain": [
       "MultinomialNB()"
      ]
     },
     "execution_count": 48,
     "metadata": {},
     "output_type": "execute_result"
    }
   ],
   "source": [
    "# train\n",
    "clf_balanced = MultinomialNB()\n",
    "clf_balanced.fit(X_train_balanced, y_train_balanced)"
   ]
  },
  {
   "cell_type": "code",
   "execution_count": 49,
   "id": "e50032bb57d10b41",
   "metadata": {
    "ExecuteTime": {
     "end_time": "2023-11-16T15:20:46.070345700Z",
     "start_time": "2023-11-16T15:20:46.000158100Z"
    }
   },
   "outputs": [],
   "source": [
    "# predict the test set\n",
    "y_pred_balanced = clf_balanced.predict(X_test_balanced)"
   ]
  },
  {
   "cell_type": "markdown",
   "id": "38a7f8c4f6ed7fab",
   "metadata": {},
   "source": [
    "## Evaluate 2. Model attempt"
   ]
  },
  {
   "cell_type": "code",
   "execution_count": 50,
   "id": "549129a5bb05889f",
   "metadata": {
    "ExecuteTime": {
     "end_time": "2023-11-16T15:20:47.595092100Z",
     "start_time": "2023-11-16T15:20:47.537466500Z"
    }
   },
   "outputs": [
    {
     "name": "stdout",
     "output_type": "stream",
     "text": [
      "Accuracy:  0.4657687991021324\n"
     ]
    }
   ],
   "source": [
    "# calculate the accuracy\n",
    "from sklearn.metrics import accuracy_score\n",
    "print('Accuracy: ', accuracy_score(y_test_balanced, y_pred_balanced))"
   ]
  },
  {
   "cell_type": "code",
   "execution_count": 51,
   "id": "ba0a38cc50b3dc10",
   "metadata": {
    "ExecuteTime": {
     "end_time": "2023-11-16T15:20:51.842887600Z",
     "start_time": "2023-11-16T15:20:51.477107900Z"
    }
   },
   "outputs": [
    {
     "data": {
      "image/png": "[encoded data removed]",
      "text/plain": [
       "<Figure size 1000x1000 with 2 Axes>"
      ]
     },
     "metadata": {},
     "output_type": "display_data"
    }
   ],
   "source": [
    "# confusion matrix\n",
    "cm = confusion_matrix(y_test_balanced, y_pred_balanced, normalize='true')\n",
    "fig, ax = plt.subplots(figsize=(10,10))\n",
    "sns.heatmap(cm, annot=True, fmt='.0%', xticklabels=[1, 2, 3, 4, 5], yticklabels=[1, 2, 3, 4, 5], ax=ax)\n",
    "plt.ylabel('Actual')\n",
    "plt.xlabel('Predicted')\n",
    "plt.show()"
   ]
  },
  {
   "cell_type": "markdown",
   "id": "decfab20fd290e6c",
   "metadata": {},
   "source": [
    "The accuracy is quite a lot lower now, but overall, this is a more useful model.\n",
    "\n",
    "In the confusion matrix we can see that the model is better at predicting extreme reviews (1 and 5 star) than reviews in the middle. This makes sense because 2, 3 and 4 star reviews are more likely to use similar language, while 1 and 5 star reviews might use more extreme language."
   ]
  },
  {
   "cell_type": "code",
   "execution_count": 57,
   "id": "585775d2ab2e602b",
   "metadata": {
    "ExecuteTime": {
     "end_time": "2023-11-16T15:31:36.426424Z",
     "start_time": "2023-11-16T15:31:36.359975Z"
    }
   },
   "outputs": [
    {
     "name": "stdout",
     "output_type": "stream",
     "text": [
      "Balanced accuracy:  0.46500155515264796\n"
     ]
    }
   ],
   "source": [
    "# lets look at the balanced accuracy\n",
    "\n",
    "print('Balanced accuracy: ', balanced_accuracy_score(y_test_balanced, y_pred_balanced))"
   ]
  },
  {
   "cell_type": "markdown",
   "id": "c2496f1094a082bc",
   "metadata": {},
   "source": [
    "As we can see, for the second model, the balanced accuracy is exactly the same as the accuracy. This is because the dataset was is balanced. The balanced accuracy is now significantly higher than for the first model."
   ]
  },
  {
   "cell_type": "code",
   "execution_count": 55,
   "id": "3cfccf5ce768969f",
   "metadata": {
    "ExecuteTime": {
     "end_time": "2023-11-16T15:29:02.180851300Z",
     "start_time": "2023-11-16T15:29:02.026340600Z"
    }
   },
   "outputs": [
    {
     "name": "stdout",
     "output_type": "stream",
     "text": [
      "0.8406285072951739\n"
     ]
    }
   ],
   "source": [
    "# Look at the accuracy with a tolerance of 1 star\n",
    "def custom_accuracy(y_true, y_pred):\n",
    "    # Clip the predictions to be within the range [1, 5]\n",
    "    y_pred = np.clip(y_pred, 1, 5)\n",
    "    \n",
    "    # Calculate the absolute difference between true and predicted values\n",
    "    absolute_diff = np.abs(y_true - y_pred)\n",
    "    \n",
    "    # Check if the absolute difference is within the tolerance of ±1\n",
    "    within_tolerance = np.less_equal(absolute_diff, 1)\n",
    "    \n",
    "    # Calculate the percentage of predictions within the tolerance\n",
    "    accuracy = np.mean(within_tolerance)\n",
    "    \n",
    "    return accuracy\n",
    "\n",
    "print(custom_accuracy(y_test_balanced, y_pred_balanced))"
   ]
  },
  {
   "cell_type": "markdown",
   "id": "bc6409d5392d7a13",
   "metadata": {},
   "source": [
    "We can see that the accuracy is a lot higher when we allow the model to be off by 1 star."
   ]
  }
 ],
 "metadata": {
  "kernelspec": {
   "display_name": "Python 3 (ipykernel)",
   "language": "python",
   "name": "python3"
  },
  "language_info": {
   "codemirror_mode": {
    "name": "ipython",
    "version": 3
   },
   "file_extension": ".py",
   "mimetype": "text/x-python",
   "name": "python",
   "nbconvert_exporter": "python",
   "pygments_lexer": "ipython3",
   "version": "3.8.18"
  }
 },
 "nbformat": 4,
 "nbformat_minor": 5
}
